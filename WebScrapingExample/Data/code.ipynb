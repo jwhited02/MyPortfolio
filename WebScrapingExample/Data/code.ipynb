{
 "cells": [
  {
   "cell_type": "code",
   "execution_count": 11,
   "id": "d9aff828-b661-48a8-b3be-a8fb1f4f7485",
   "metadata": {},
   "outputs": [],
   "source": [
    "import requests\n",
    "from bs4 import BeautifulSoup\n",
    "import pandas as pd"
   ]
  },
  {
   "cell_type": "code",
   "execution_count": 12,
   "id": "95571f2a-77f5-4436-b009-2e1232667e5d",
   "metadata": {},
   "outputs": [
    {
     "name": "stdout",
     "output_type": "stream",
     "text": [
      "Data successfully saved to nfl_passing_stats_2024.csv\n"
     ]
    }
   ],
   "source": [
    "# Web Scraping\n",
    "# Fetch the webpage\n",
    "url = \"https://www.pro-football-reference.com/years/2024/passing.htm\"\n",
    "response = requests.get(url)\n",
    "if response.status_code == 200:\n",
    "    soup = BeautifulSoup(response.content, 'html.parser')\n",
    "    \n",
    "    # Locate the table\n",
    "    table = soup.find('table', {'id': 'passing'})\n",
    "    \n",
    "    # Extract headers\n",
    "    headers = [th.text for th in table.find_all('tr')[0].find_all('th')]\n",
    "    headers = headers[1:]  \n",
    "    \n",
    "    # Extract rows\n",
    "    rows = []\n",
    "    for tr in table.find_all('tr')[1:]:  \n",
    "        cols = [td.text for td in tr.find_all('td')]\n",
    "        if cols:  \n",
    "            rows.append(cols)\n",
    "    \n",
    "    # Step 5: Create a DataFrame and save as CSV\n",
    "    df = pd.DataFrame(rows, columns=headers)\n",
    "    df.to_csv('nfl_passing_stats_2024.csv', index=False)\n",
    "    print(\"Data successfully saved to nfl_passing_stats_2024.csv\")\n",
    "else:\n",
    "    print(f\"Failed to retrieve the webpage. Status code: {response.status_code}\")"
   ]
  },
  {
   "cell_type": "code",
   "execution_count": 13,
   "id": "88f09f96-ff72-49cf-bb13-a0798f1f4254",
   "metadata": {},
   "outputs": [
    {
     "name": "stdout",
     "output_type": "stream",
     "text": [
      "Columns in the dataset:\n",
      "Index(['Player', 'Age', 'Team', 'Pos', 'G', 'GS', 'QBrec', 'Cmp', 'Att',\n",
      "       'Cmp%', 'Yds', 'TD', 'TD%', 'Int', 'Int%', '1D', 'Succ%', 'Lng', 'Y/A',\n",
      "       'AY/A', 'Y/C', 'Y/G', 'Rate', 'QBR', 'Sk', 'Yds.1', 'Sk%', 'NY/A',\n",
      "       'ANY/A', '4QC', 'GWD', 'Awards'],\n",
      "      dtype='object')\n",
      "Cleaned data saved to nfl_passing_stats_2024_cleaned.csv\n"
     ]
    }
   ],
   "source": [
    "# Data Cleaning\n",
    "# Load the CSV file\n",
    "file_path = 'nfl_passing_stats_2024.csv'  \n",
    "df = pd.read_csv(file_path)\n",
    "\n",
    "# Inspect the column names\n",
    "print(\"Columns in the dataset:\")\n",
    "print(df.columns)\n",
    "\n",
    "# Remove unnecessary columns\n",
    "columns_to_remove = ['Pos', 'G' , 'TD%' , 'Int%', '1D' , 'Succ%' , 'Lng' , 'Yds' , 'Sk%' , 'AY/A' , 'NY/A' , 'ANY/A'] \n",
    "\n",
    "# Rename columns as needed\n",
    "columns_to_rename = {\n",
    "    'GS': 'Games Started',\n",
    "    'QBrec': 'Record',\n",
    "    'Cmp': 'Completions',\n",
    "    'Cmp%': 'Completion Percentage',\n",
    "    'Att': 'Attempts',\n",
    "    'Yds': 'Yards',\n",
    "    'TD': 'Touchdowns Thrown',\n",
    "    'Int': 'Interceeptions Thrown', \n",
    "    'Y/A': 'Yards per Pass Attempt',\n",
    "    'Y/C': 'Yards per Completion', \n",
    "    'Y/G': 'Yards per Game',\n",
    "    'Rate': 'Rating', \n",
    "    'QBR': 'QB Rating',\n",
    "    'Sk': 'Sacks Taken',\n",
    "    '4QC': '4th Quarter Comebacks', \n",
    "    'GWD': 'Game Winning Drives'\n",
    "}\n",
    "\n",
    "df_cleaned = df.drop(columns=columns_to_remove).rename(columns=columns_to_rename)\n",
    "\n",
    "# Step 4: Save the cleaned data to a new CSV\n",
    "cleaned_file_path = 'nfl_passing_stats_2024_cleaned.csv'\n",
    "df_cleaned.to_csv(cleaned_file_path, index=False)\n",
    "print(f\"Cleaned data saved to {cleaned_file_path}\")"
   ]
  },
  {
   "cell_type": "code",
   "execution_count": null,
   "id": "712b306f-b0ff-49ba-9c78-5606c52452bf",
   "metadata": {},
   "outputs": [],
   "source": []
  }
 ],
 "metadata": {
  "kernelspec": {
   "display_name": "Python 3 (ipykernel)",
   "language": "python",
   "name": "python3"
  },
  "language_info": {
   "codemirror_mode": {
    "name": "ipython",
    "version": 3
   },
   "file_extension": ".py",
   "mimetype": "text/x-python",
   "name": "python",
   "nbconvert_exporter": "python",
   "pygments_lexer": "ipython3",
   "version": "3.10.14"
  }
 },
 "nbformat": 4,
 "nbformat_minor": 5
}
